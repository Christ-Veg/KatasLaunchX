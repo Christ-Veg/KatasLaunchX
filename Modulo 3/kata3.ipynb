{
 "cells": [
  {
   "cell_type": "code",
   "execution_count": null,
   "metadata": {},
   "outputs": [],
   "source": []
  },
  {
   "cell_type": "markdown",
   "metadata": {},
   "source": [
    "# Ejercicios con if, else, elsif, and y or"
   ]
  },
  {
   "cell_type": "markdown",
   "metadata": {},
   "source": [
    "## Ejercicio 1 y 2: if, else, elsif"
   ]
  },
  {
   "cell_type": "code",
   "execution_count": 8,
   "metadata": {},
   "outputs": [
    {
     "name": "stdout",
     "output_type": "stream",
     "text": [
      "¡¡ADVERTENCIA!! VAMOS A MORIR!!!!\n"
     ]
    }
   ],
   "source": [
    "ast = 49\n",
    "\n",
    "if ast>25:\n",
    "    print(\"¡¡ADVERTENCIA!! VAMOS A MORIR!!!!\")\n",
    "else:\n",
    "    print(\"Dale tranqui mi loco se viene una piedrita.\")"
   ]
  },
  {
   "cell_type": "code",
   "execution_count": 9,
   "metadata": {},
   "outputs": [
    {
     "name": "stdout",
     "output_type": "stream",
     "text": [
      "Dale tranqui mi loco se viene una piedrita.\n"
     ]
    }
   ],
   "source": [
    "ast = 19\n",
    "\n",
    "if ast>25:\n",
    "    print(\"¡¡ADVERTENCIA!! VAMOS A MORIR!!!!\")\n",
    "else:\n",
    "    print(\"Dale tranqui mi loco se viene una piedrita.\")\n"
   ]
  },
  {
   "cell_type": "markdown",
   "metadata": {},
   "source": [
    "## Ejercicio 3: sentencias and y or"
   ]
  },
  {
   "cell_type": "code",
   "execution_count": 7,
   "metadata": {},
   "outputs": [
    {
     "name": "stdout",
     "output_type": "stream",
     "text": [
      "Se viene un rayo, Cuidado.\n"
     ]
    }
   ],
   "source": [
    "velAst = 49\n",
    "dimAst = 25\n",
    "\n",
    "if velAst>25 and dimAst>25:\n",
    "    print(\"¡¡ADVERTENCIA!! VAMOS A MORIR!!!!\")\n",
    "elif velAst>25 and dimAst<26:\n",
    "    print(\"Se viene un rayo, Cuidado.\")\n",
    "else:\n",
    "    print(\"Dale tranqui mi loco se viene una piedrita.\")"
   ]
  }
 ],
 "metadata": {
  "interpreter": {
   "hash": "e474b628559da144331c39781cde527f9eea2c7f80abebb285873998c8fbeaa1"
  },
  "kernelspec": {
   "display_name": "Python 3.9.7 64-bit",
   "language": "python",
   "name": "python3"
  },
  "language_info": {
   "codemirror_mode": {
    "name": "ipython",
    "version": 3
   },
   "file_extension": ".py",
   "mimetype": "text/x-python",
   "name": "python",
   "nbconvert_exporter": "python",
   "pygments_lexer": "ipython3",
   "version": "3.9.7"
  },
  "orig_nbformat": 4
 },
 "nbformat": 4,
 "nbformat_minor": 2
}
